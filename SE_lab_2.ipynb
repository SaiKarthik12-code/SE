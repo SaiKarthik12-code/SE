{
  "nbformat": 4,
  "nbformat_minor": 0,
  "metadata": {
    "colab": {
      "provenance": [],
      "authorship_tag": "ABX9TyPcyLHgI0HaXkCGNmuLxZfW",
      "include_colab_link": true
    },
    "kernelspec": {
      "name": "python3",
      "display_name": "Python 3"
    },
    "language_info": {
      "name": "python"
    }
  },
  "cells": [
    {
      "cell_type": "markdown",
      "metadata": {
        "id": "view-in-github",
        "colab_type": "text"
      },
      "source": [
        "<a href=\"https://colab.research.google.com/github/SaiKarthik12-code/SE/blob/main/SE_lab_2.ipynb\" target=\"_parent\"><img src=\"https://colab.research.google.com/assets/colab-badge.svg\" alt=\"Open In Colab\"/></a>"
      ]
    },
    {
      "cell_type": "code",
      "source": [
        "#Implement weather modelling using the quadratic solution in stages: hardcore variables,keyboard input, read from file, for a single set of input,for multipleset of inputs"
      ],
      "metadata": {
        "id": "PyCEcxfvCt2c"
      },
      "execution_count": null,
      "outputs": []
    },
    {
      "cell_type": "code",
      "execution_count": null,
      "metadata": {
        "id": "97uyESLMsrTT"
      },
      "outputs": [],
      "source": [
        "#temperature function\n",
        "def Temperature_modeling(a,b,c,time):\n",
        "  temperature=a*time**2+b*time+c\n",
        "  return temperature"
      ]
    },
    {
      "cell_type": "code",
      "source": [
        "#hardocre variables\n",
        "a,b,c=0.1,2,10\n",
        "time=5"
      ],
      "metadata": {
        "id": "7RAzZPbvuuYf"
      },
      "execution_count": null,
      "outputs": []
    },
    {
      "cell_type": "code",
      "source": [
        "print(\"Hard-coded variables for weather modeling\")\n",
        "print(\"Temperature for hardcoded coefficients at time\",time,\"hours:\",Temperature_modeling(a,b,c,time))"
      ],
      "metadata": {
        "colab": {
          "base_uri": "https://localhost:8080/"
        },
        "id": "bInpUtvluz6t",
        "outputId": "d4bd40fd-9f4c-448c-d37d-b33385b1f9b0"
      },
      "execution_count": null,
      "outputs": [
        {
          "output_type": "stream",
          "name": "stdout",
          "text": [
            "Hard-coded variables for weather modeling\n",
            "Temperature for hardcoded coefficients at time 5 hours: 22.5\n"
          ]
        }
      ]
    },
    {
      "cell_type": "code",
      "source": [
        "a=float(input(\"Enter coefficent a:\"))\n",
        "b=float(input(\"Enter coefficent b:\"))\n",
        "c=float(input(\"Enter coefficent c:\"))\n",
        "time=float(input(\"Enter time in hours:\"))"
      ],
      "metadata": {
        "colab": {
          "base_uri": "https://localhost:8080/"
        },
        "id": "aoBtvvOhvREF",
        "outputId": "23ce7e77-eddd-4e47-b313-fbd0a0dc4769"
      },
      "execution_count": null,
      "outputs": [
        {
          "name": "stdout",
          "output_type": "stream",
          "text": [
            "Enter coefficent a:0.1\n",
            "Enter coefficent b:3\n",
            "Enter coefficent c:10\n",
            "Enter time in hours:4\n"
          ]
        }
      ]
    },
    {
      "cell_type": "code",
      "source": [
        "print(\"Hard-coded variables for weather modeling\")\n",
        "print(\"Temperature for hardcoded coefficients at time\",time,\"hours:\",Temperature_modeling(a,b,c,time))"
      ],
      "metadata": {
        "colab": {
          "base_uri": "https://localhost:8080/"
        },
        "id": "ePX1Gh6hvnYK",
        "outputId": "13ffb6fd-9d78-45d7-ac87-6403b55688ac"
      },
      "execution_count": null,
      "outputs": [
        {
          "output_type": "stream",
          "name": "stdout",
          "text": [
            "Hard-coded variables for weather modeling\n",
            "Temperature for hardcoded coefficients at time 4.0 hours: 23.6\n"
          ]
        }
      ]
    },
    {
      "cell_type": "code",
      "source": [
        "def read_from_file(sample):\n",
        "  with open(sample,'r') as file:\n",
        "    lines=file.readlines()\n",
        "  coefficients=[tuple(map(float,line.strip().split(',')))for line in lines]\n",
        "  return coefficients"
      ],
      "metadata": {
        "id": "6iunDLLrwL4r"
      },
      "execution_count": null,
      "outputs": []
    },
    {
      "source": [
        "coefficients=read_from_file('/sample.txt')\n",
        "a,b,c,time=coefficients[0]\n",
        "temperature=Temperature_modeling(a,b,c,time)\n",
        "print(\"read from a file for wather modeling\")\n",
        "print(\"Temperature for hardcoded coefficients at time\",time,\"hours:\",temperature)"
      ],
      "cell_type": "code",
      "metadata": {
        "colab": {
          "base_uri": "https://localhost:8080/"
        },
        "id": "Zk6Ou7ei0DRm",
        "outputId": "2775859e-e0db-41dd-b661-0ce1f1972bbf"
      },
      "execution_count": null,
      "outputs": [
        {
          "output_type": "stream",
          "name": "stdout",
          "text": [
            "read from a file for wather modeling\n",
            "Temperature for hardcoded coefficients at time 6.0 hours: 223.0\n"
          ]
        }
      ]
    },
    {
      "cell_type": "code",
      "source": [
        "for idx, (a,b,c,time) in enumerate(coefficients):\n",
        "  temperature=Temperature_modeling(a,b,c,time)\n",
        "  print(\"Temperature from keyboard coefficients at time\",time,\"hours:\",Temperature_modeling(a,b,c,time))"
      ],
      "metadata": {
        "colab": {
          "base_uri": "https://localhost:8080/"
        },
        "id": "bRKazEDc2ERs",
        "outputId": "ed60dfac-9bbf-45c1-8298-9877de052400"
      },
      "execution_count": null,
      "outputs": [
        {
          "output_type": "stream",
          "name": "stdout",
          "text": [
            "Temperature from keyboard coefficients at time 6.0 hours: 223.0\n",
            "Temperature from keyboard coefficients at time 5.0 hours: 138.0\n",
            "Temperature from keyboard coefficients at time 5.0 hours: 94.0\n"
          ]
        }
      ]
    }
  ]
}